{
  "nbformat": 4,
  "nbformat_minor": 0,
  "metadata": {
    "colab": {
      "name": "Equal_Pay_For_Equal_Work.ipynb",
      "provenance": [],
      "collapsed_sections": [],
      "include_colab_link": true
    },
    "kernelspec": {
      "name": "python3",
      "display_name": "Python 3"
    }
  },
  "cells": [
    {
      "cell_type": "markdown",
      "metadata": {
        "id": "view-in-github",
        "colab_type": "text"
      },
      "source": [
        "<a href=\"https://colab.research.google.com/github/ahvblackwelltech/data-storytelling-project-gender-pay-gap/blob/master/Equal_Pay_For_Equal_Work.ipynb\" target=\"_parent\"><img src=\"https://colab.research.google.com/assets/colab-badge.svg\" alt=\"Open In Colab\"/></a>"
      ]
    },
    {
      "cell_type": "markdown",
      "metadata": {
        "id": "9i4w0Scde6r8",
        "colab_type": "text"
      },
      "source": [
        "# **Equal Pay For Equal Work: NBA vs. WNBA** "
      ]
    },
    {
      "cell_type": "markdown",
      "metadata": {
        "id": "NSDsOntlfdJD",
        "colab_type": "text"
      },
      "source": [
        "In this project..."
      ]
    },
    {
      "cell_type": "code",
      "metadata": {
        "id": "IkKk_W77exNn",
        "colab_type": "code",
        "colab": {}
      },
      "source": [
        "import pandas as pd\n",
        "import numpy as np"
      ],
      "execution_count": 0,
      "outputs": []
    },
    {
      "cell_type": "code",
      "metadata": {
        "id": "HF_7pjkMfpCK",
        "colab_type": "code",
        "colab": {}
      },
      "source": [
        "wnba_stats = pd.read_csv()"
      ],
      "execution_count": 0,
      "outputs": []
    }
  ]
}